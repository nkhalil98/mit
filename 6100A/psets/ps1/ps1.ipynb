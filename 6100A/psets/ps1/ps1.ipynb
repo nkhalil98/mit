{
 "cells": [
  {
   "cell_type": "markdown",
   "id": "66e9fefe",
   "metadata": {},
   "source": [
    "## Problem 1\n",
    "\n",
    "Assume `s` is a string of lower case characters.\n",
    "\n",
    "Write a program that counts up the number of vowels contained in the string `s`. Valid vowels are: '`a`', '`e`', '`i`', '`o`', and '`u`'. For example, if `s = 'azcbobobegghakl'`, your program should print:\n",
    "\n",
    "`Number of vowels: 5`"
   ]
  },
  {
   "cell_type": "code",
   "execution_count": null,
   "id": "e22727cf",
   "metadata": {},
   "outputs": [
    {
     "name": "stdout",
     "output_type": "stream",
     "text": [
      "Number of vowels: 5\n"
     ]
    }
   ],
   "source": [
    "s = \"azcbobobegghakl\"\n",
    "n_vowels = 0\n",
    "vowels = {\"a\", \"e\", \"i\", \"o\", \"u\"}\n",
    "\n",
    "for char in s:\n",
    "    if char in vowels:\n",
    "        n_vowels += 1\n",
    "\n",
    "print(f\"Number of vowels: {n_vowels}\")"
   ]
  },
  {
   "cell_type": "markdown",
   "id": "80667e1f",
   "metadata": {},
   "source": [
    "## Problem 2\n",
    "\n",
    "Assume `s` is a string of lower case characters.\n",
    "\n",
    "Write a program that prints the number of times the string `'bob'` occurs in `s`. For example, if `s = 'azcbobobegghakl'`, then your program should print\n",
    "\n",
    "`Number of times bob occurs is: 2`\n"
   ]
  },
  {
   "cell_type": "code",
   "execution_count": null,
   "id": "212f1540",
   "metadata": {
    "scrolled": true
   },
   "outputs": [
    {
     "name": "stdout",
     "output_type": "stream",
     "text": [
      "Number of times bob occurs is: 2\n"
     ]
    }
   ],
   "source": [
    "s = \"azcbobobegghakl\"\n",
    "n_bob = 0\n",
    "\n",
    "for i in range(len(s) - 2):\n",
    "    if s[i:i+3] == \"bob\":\n",
    "        n_bob += 1\n",
    "\n",
    "print(f\"Number of times bob occurs is: {n_bob}\")"
   ]
  },
  {
   "cell_type": "markdown",
   "id": "78bd184a",
   "metadata": {},
   "source": [
    "## Problem 3\n",
    "\n",
    "Assume `s` is a string of lower case characters.\n",
    "\n",
    "Write a program that prints the longest substring of `s` in which the letters occur in alphabetical order. For example, if `s = 'azcbobobegghakl'`, then your program should print\n",
    "\n",
    "`Longest substring in alphabetical order is: beggh`\n",
    "\n",
    "In the case of ties, print the first substring. For example, if `s = 'abcbcd'`, then your program should print\n",
    "\n",
    "`Longest substring in alphabetical order is: abc`\n",
    "\n",
    "Note: This problem may be challenging. We encourage you to work smart. If you've spent more than a few hours on this problem, we suggest that you move on to a different part of the course. If you have time, come back to this problem after you've had a break and cleared your head."
   ]
  },
  {
   "cell_type": "code",
   "execution_count": null,
   "id": "5802e7b8",
   "metadata": {},
   "outputs": [
    {
     "name": "stdout",
     "output_type": "stream",
     "text": [
      "Longest substring in alphabetical order is: beggh\n"
     ]
    }
   ],
   "source": [
    "s = \"azcbobobegghakl\"\n",
    "longest = \"\"\n",
    "temp = \"\"\n",
    "\n",
    "for i in range(len(s)):\n",
    "    if (s[i] >= s[i-1]):\n",
    "        temp += s[i]\n",
    "    else:\n",
    "        temp = s[i]\n",
    "\n",
    "    if len(temp) > len(longest):\n",
    "        longest = temp\n",
    "\n",
    "print(f\"Longest substring in alphabetical order is: {longest}\")"
   ]
  }
 ],
 "metadata": {
  "kernelspec": {
   "display_name": "Python 3 (ipykernel)",
   "language": "python",
   "name": "python3"
  },
  "language_info": {
   "codemirror_mode": {
    "name": "ipython",
    "version": 3
   },
   "file_extension": ".py",
   "mimetype": "text/x-python",
   "name": "python",
   "nbconvert_exporter": "python",
   "pygments_lexer": "ipython3",
   "version": "3.9.12"
  }
 },
 "nbformat": 4,
 "nbformat_minor": 5
}
