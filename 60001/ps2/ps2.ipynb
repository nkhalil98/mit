{
 "cells": [
  {
   "cell_type": "markdown",
   "id": "dddc5981",
   "metadata": {},
   "source": [
    "Each month, a credit card statement will come with the option for you to pay a minimum amount of your charge, usually 2% of the balance due. However, the credit card company earns money by charging interest on the balance that you don't pay. So even if you pay credit card payments on time, interest is still accruing on the outstanding balance.\n",
    "\n",
    "Say you've made a $5,000 purchase on a credit card with an 18% annual interest rate and a 2% minimum monthly payment rate. If you only pay the minimum monthly amount for a year, how much is the remaining balance?\n",
    "\n",
    "You can think about this in the following way.\n",
    "\n",
    "At the beginning of month 0 (when the credit card statement arrives), assume you owe an amount we will call $b_0$ (b for *balance*; subscript 0 to indicate this is the balance at month 0).\n",
    "\n",
    "Any payment you make during that month is deducted from the balance. Let's call the payment you make in month 0, $p_0$. Thus, your **unpaid balance** for month 0, $ub_0$, is equal to $b_0 - p_0$.\n",
    "\n",
    "$ub_0 = b_0 - p_0$\n",
    "\n",
    "At the beginning of month 1, the credit card company will charge you interest on your unpaid balance. So if your annual interest rate is $r$, then at the beginning of month 1, your new balance is your previous unpaid balance $ub_0$, **plus** the interest on this unpaid balance for the month. In algebra, this new balance would be\n",
    "\n",
    "$b_1 = ub_0 + \\frac{r}{12} . ub_0$\n",
    "\n",
    "In month 1, we will make another payment, $p_1$. That payment has to cover some of the interest costs, so it does not completely go towards paying off the original charge. The balance at the beginning of month 2, $b_2$, can be calculated by first calculating the unpaid balance after paying $p_1$, then by adding the interest accrued:\n",
    "\n",
    "$ub_1 = b_1 - p_1$\n",
    "\n",
    "$b_2 = ub_1 + \\frac{r}{12} . ub_1$\n",
    "\n",
    "If you choose just to pay off the minimum monthly payment each month, you will see that the compound interest will dramatically reduce your ability to lower your debt.\n",
    "\n"
   ]
  },
  {
   "cell_type": "markdown",
   "id": "9510837e",
   "metadata": {},
   "source": [
    "## Problem 1 - Paying Debt off in a Year\n",
    "\n",
    "Write a program to calculate the credit card balance after one year if a person only pays the minimum monthly payment required by the credit card company each month.\n",
    "\n",
    "The following variables contain values as described below:\n",
    "\n",
    "1. <code>balance</code> - the outstanding balance on the credit card\n",
    "\n",
    "2. <code>annualInterestRate</code> - annual interest rate as a decimal\n",
    "\n",
    "3. <code>monthlyPaymentRate</code> - minimum monthly payment rate as a decimal\n",
    "\n",
    "For each month, calculate statements on the monthly payment and remaining balance. At the end of 12 months, print out the remaining balance. Be sure to print out no more than two decimal digits of accuracy - so print\n",
    "\n",
    "<code>Remaining balance: 813.41</code>\n",
    "\n",
    "instead of\n",
    "\n",
    "<code>Remaining balance: 813.4141998135</code>\n",
    "\n",
    "So your program only prints out one thing: the remaining balance at the end of the year in the format:\n",
    "\n",
    "<code>Remaining balance: 4784.0</code>\n",
    "\n",
    "A summary of the required math is found below:\n",
    "\n",
    "**Monthly interest rate** = (Annual interest rate) / 12.0\n",
    "\n",
    "**Minimum monthly payment** = (Minimum monthly payment rate) x (Previous balance)\n",
    "\n",
    "**Monthly unpaid balance** = (Previous balance) - (Minimum monthly payment)\n",
    "\n",
    "**Updated balance each month** = (Monthly unpaid balance) + (Monthly interest rate x Monthly unpaid balance)\n",
    "\n",
    "**Hints**\n",
    "\n",
    "**Only two decimal digits of accuracy?**\n",
    "\n",
    "Use the <code>round</code> function at the end of your code!\n",
    "\n",
    "**How to think about this problem?**\n",
    "\n",
    "To help you get started, here is a rough outline of the stages you should probably follow in writing your code:\n",
    "\n",
    "- For each month:\n",
    "\n",
    "    - Compute the monthly payment, based on the previous month’s balance.\n",
    "\n",
    "    - Update the outstanding balance by removing the payment, then charging interest on the result.\n",
    "\n",
    "    - Output the month, the minimum monthly payment and the remaining balance.\n",
    "\n",
    "    - Keep track of the total amount of paid over all the past months so far.\n",
    "\n",
    "- Print out the result statement with the total amount paid and the remaining balance.\n",
    "\n",
    "Use these ideas to guide the creation of your code."
   ]
  },
  {
   "cell_type": "code",
   "execution_count": 1,
   "id": "55912f66",
   "metadata": {},
   "outputs": [
    {
     "name": "stdout",
     "output_type": "stream",
     "text": [
      "31.38\n"
     ]
    }
   ],
   "source": [
    "balance = 42\n",
    "annualInterestRate = 0.2\n",
    "monthlyPaymentRate = 0.04\n",
    "monthlyInterestRate = annualInterestRate / 12\n",
    "\n",
    "for month in range(12):\n",
    "    balance = balance - monthlyPaymentRate * balance\n",
    "    balance = balance + balance * monthlyInterestRate\n",
    "print(round(balance,2))"
   ]
  },
  {
   "cell_type": "code",
   "execution_count": 3,
   "id": "3f825f54",
   "metadata": {},
   "outputs": [
    {
     "name": "stdout",
     "output_type": "stream",
     "text": [
      "361.61\n"
     ]
    }
   ],
   "source": [
    "balance = 484\n",
    "annualInterestRate = 0.2\n",
    "monthlyPaymentRate = 0.04\n",
    "monthlyInterestRate = annualInterestRate / 12\n",
    "\n",
    "for month in range(12):\n",
    "    balance = balance - monthlyPaymentRate * balance\n",
    "    balance = balance + balance * monthlyInterestRate\n",
    "print(round(balance,2))"
   ]
  },
  {
   "cell_type": "markdown",
   "id": "fd695aee",
   "metadata": {},
   "source": [
    "## Problem 2 - Paying Debt Off in a Year\n",
    "\n",
    "Now write a program that calculates the minimum **fixed** monthly payment needed in order pay off a credit card balance within 12 months. By a fixed monthly payment, we mean a single number which does not change each month, but instead is a constant amount that will be paid each month.\n",
    "\n",
    "In this problem, we will *not* be dealing with a minimum monthly payment rate.\n",
    "\n",
    "The following variables contain values as described below:\n",
    "\n",
    "1. <code>balance</code> - the outstanding balance on the credit card\n",
    "\n",
    "2. <code>annualInterestRate</code> - annual interest rate as a decimal\n",
    "\n",
    "The program should print out one line: the lowest monthly payment that will pay off all debt in under 1 year, for example:\n",
    "\n",
    "<code>Lowest Payment: 180</code> \n",
    "\n",
    "Assume that the interest is compounded monthly according to the balance at the end of the month (after the payment for that month is made). The monthly payment must be a multiple of $10 and is the same for all months. Notice that it is possible for the balance to become negative using this payment scheme, which is okay. A summary of the required math is found below:\n",
    "\n",
    "**Monthly interest rate** = (Annual interest rate) / 12.0\n",
    "\n",
    "**Monthly unpaid balance** = (Previous balance) - (Minimum fixed monthly payment)\n",
    "\n",
    "**Updated balance each month** = (Monthly unpaid balance) + (Monthly interest rate x Monthly unpaid balance)\n",
    "\n",
    "**Hints**\n",
    "\n",
    "**Hint: How to think about this problem?**\n",
    "\n",
    "- Start with \\\\$10 payments per month and calculate whether the balance will be paid off in a year this way (be sure to take into account the interest accrued each month).\n",
    "\n",
    "- If \\\\$10 monthly payments are insufficient to pay off the debt within a year, increase the monthly payment by $10 and repeat.\n",
    "\n",
    "**Hint: A way of structuring your code**\n",
    "\n",
    "- If you are struggling with how to structure your code, think about the following:\n",
    "\n",
    "    - Given an initial balance, what code would compute the balance at the end of the year?\n",
    "    \n",
    "    - Now imagine that we try our initial balance with a monthly payment of \\\\$10. If there is a balance remaining at the end of the year, how could we write code that would reset the balance to the initial balance, increase the payment by \\\\$10, and try again (using the same code!) to compute the balance at the end of the year, to see if this new payment value is large enough.\n",
    "\n",
    "    - **I'm still confused!**\n",
    "\n",
    "    A good way to implement this problem will be to use a loop structure. You may want to refresh your understanding of **while** loops. Think hard about how the program will know when it has found a good minimum monthly payment value - when a good value is found, the loop can terminate.\n",
    "\n",
    "- Be careful - you don't want to overwrite the original value of balance. You'll need to save that value somehow for later reference!"
   ]
  },
  {
   "cell_type": "code",
   "execution_count": 5,
   "id": "1fb2b41b",
   "metadata": {},
   "outputs": [
    {
     "name": "stdout",
     "output_type": "stream",
     "text": [
      "Lowest Payment: 310\n"
     ]
    }
   ],
   "source": [
    "balance = 3329\n",
    "annualInterestRate = 0.2\n",
    "paid_in_full = False\n",
    "payment = 10\n",
    "increment = 10\n",
    "monthlyInterestRate = annualInterestRate / 12\n",
    "\n",
    "while not paid_in_full:\n",
    "    balance = 3329\n",
    "    for month in range(12):\n",
    "        balance -= payment\n",
    "        balance = balance + balance * monthlyInterestRate\n",
    "    if balance > 0:\n",
    "        payment += increment\n",
    "    else:\n",
    "        paid_in_full = True\n",
    "print('Lowest Payment: ' + str(payment))"
   ]
  },
  {
   "cell_type": "code",
   "execution_count": 6,
   "id": "948e8188",
   "metadata": {},
   "outputs": [
    {
     "name": "stdout",
     "output_type": "stream",
     "text": [
      "Lowest Payment: 440\n"
     ]
    }
   ],
   "source": [
    "balance = 4773\n",
    "annualInterestRate = 0.2\n",
    "paid_in_full = False\n",
    "payment = 10\n",
    "increment = 10\n",
    "monthlyInterestRate = annualInterestRate / 12\n",
    "\n",
    "while not paid_in_full:\n",
    "    balance = 4773\n",
    "    for month in range(12):\n",
    "        balance -= payment\n",
    "        balance = balance + balance * monthlyInterestRate\n",
    "    if balance > 0:\n",
    "        payment += increment\n",
    "    else:\n",
    "        paid_in_full = True\n",
    "print('Lowest Payment: ' + str(payment))"
   ]
  },
  {
   "cell_type": "code",
   "execution_count": 7,
   "id": "d7b7e809",
   "metadata": {},
   "outputs": [
    {
     "name": "stdout",
     "output_type": "stream",
     "text": [
      "Lowest Payment: 360\n"
     ]
    }
   ],
   "source": [
    "balance = 3926\n",
    "annualInterestRate = 0.2\n",
    "paid_in_full = False\n",
    "payment = 10\n",
    "increment = 10\n",
    "monthlyInterestRate = annualInterestRate / 12\n",
    "\n",
    "while not paid_in_full:\n",
    "    balance = 3926\n",
    "    for month in range(12):\n",
    "        balance -= payment\n",
    "        balance = balance + balance * monthlyInterestRate\n",
    "    if balance > 0:\n",
    "        payment += increment\n",
    "    else:\n",
    "        paid_in_full = True\n",
    "print('Lowest Payment: ' + str(payment))"
   ]
  },
  {
   "cell_type": "markdown",
   "id": "9850a86a",
   "metadata": {},
   "source": [
    "## Problem 3 - Using Bisection Search to Make the Program Faster\n",
    "\n",
    "You'll notice that in Problem 2, your monthly payment had to be a multiple of \\\\$10. Why did we make it that way? You can try running your code locally so that the payment can be any dollar and cent amount (in other words, the monthly payment is a multiple of \\\\$0.01). Does your code still work? It should, but you may notice that your code runs more slowly, especially in cases with very large balances and interest rates. (Note: when your code is running on our servers, there are limits on the amount of computing time each submission is allowed, so your observations from running this experiment on the grading system might be limited to an error message complaining about too much time taken.)\n",
    "\n",
    "Well then, how can we calculate a more accurate fixed monthly payment than we did in Problem 2 without running into the problem of slow code? We can make this program run faster using a technique introduced in lecture - bisection search!\n",
    "\n",
    "The following variables contain values as described below:\n",
    "\n",
    "   1. <code>balance</code> - the outstanding balance on the credit card\n",
    "\n",
    "   2. <code>annualInterestRate</code> - annual interest rate as a decimal\n",
    "\n",
    "To recap the problem: we are searching for the smallest monthly payment such that we can pay off the entire balance within a year. What is a reasonable **lower bound** for this payment value? \\\\$0 is the obvious answer, but you can do better than that. If there was no interest, the debt can be paid off by monthly payments of one-twelfth of the original balance, so we must pay at least this much every month. One-twelfth of the original balance is a good lower bound.\n",
    "\n",
    "What is a good **upper bound**? Imagine that instead of paying monthly, we paid off the entire balance at the end of the year. What we ultimately pay must be greater than what we would've paid in monthly installments, because the interest was compounded on the balance we didn't pay off each month. So a good upper bound for the monthly payment would be one-twelfth of the balance, *after* having its interest compounded monthly for an entire year.\n",
    "\n",
    "In short:\n",
    "\n",
    "**Monthly interest rate** = (Annual interest rate) / 12.0\n",
    "\n",
    "**Monthly payment lower bound** = Balance / 12\n",
    "\n",
    "**Monthly payment upper bound** = (Balance x (1 + Monthly interest rate)12) / 12.0\n",
    "\n",
    "Write a program that uses these bounds and bisection search (for more info check out the Wikipedia page on bisection search) to find the smallest monthly payment *to the cent* (no more multiples of \\\\$10) such that we can pay off the debt within a year. Try it out with large inputs, and notice how fast it is (try the same large inputs in your solution to Problem 2 to compare!). Produce the same return value as you did in Problem 2.\n",
    "\n",
    "Note that if you do not use bisection search, your code will not run - your code only has 30 seconds to run on our servers."
   ]
  },
  {
   "cell_type": "code",
   "execution_count": 31,
   "id": "f3ba7a65",
   "metadata": {},
   "outputs": [
    {
     "name": "stdout",
     "output_type": "stream",
     "text": [
      "Lowest Payment: 29157.09\n"
     ]
    }
   ],
   "source": [
    "balance = 320000\n",
    "annualInterestRate = 0.2\n",
    "paid_in_full = False\n",
    "monthlyInterestRate = annualInterestRate / 12\n",
    "payment_low = balance / 12\n",
    "payment_high = (balance * (1 + monthlyInterestRate)**12) / 12\n",
    "error = 0.01\n",
    "\n",
    "while not paid_in_full:\n",
    "    for month in range(12):\n",
    "        balance -= payment\n",
    "        balance = balance + balance * monthlyInterestRate\n",
    "    if balance > error:\n",
    "        payment_low = payment\n",
    "        payment = (payment_low + payment_high) / 2\n",
    "        balance = 320000\n",
    "    elif balance < -error:\n",
    "        payment_high = payment\n",
    "        payment = (payment_low + payment_high) / 2\n",
    "        balance = 320000\n",
    "    else:\n",
    "        paid_in_full = True\n",
    "print('Lowest Payment: ' + str(round(payment,2)))"
   ]
  },
  {
   "cell_type": "code",
   "execution_count": 33,
   "id": "fe2f46c8",
   "metadata": {},
   "outputs": [
    {
     "name": "stdout",
     "output_type": "stream",
     "text": [
      "Lowest Payment: 90325.03\n"
     ]
    }
   ],
   "source": [
    "balance = 999999\n",
    "annualInterestRate = 0.18\n",
    "paid_in_full = False\n",
    "monthlyInterestRate = annualInterestRate / 12\n",
    "payment_low = balance / 12\n",
    "payment_high = (balance * (1 + monthlyInterestRate)**12) / 12\n",
    "error = 0.01\n",
    "\n",
    "while not paid_in_full:\n",
    "    for month in range(12):\n",
    "        balance -= payment\n",
    "        balance = balance + balance * monthlyInterestRate\n",
    "    if balance > error:\n",
    "        payment_low = payment\n",
    "        payment = (payment_low + payment_high) / 2\n",
    "        balance = 999999\n",
    "    elif balance < -error:\n",
    "        payment_high = payment\n",
    "        payment = (payment_low + payment_high) / 2\n",
    "        balance = 999999\n",
    "    else:\n",
    "        paid_in_full = True\n",
    "print('Lowest Payment: ' + str(round(payment,2)))"
   ]
  }
 ],
 "metadata": {
  "kernelspec": {
   "display_name": "Python 3 (ipykernel)",
   "language": "python",
   "name": "python3"
  },
  "language_info": {
   "codemirror_mode": {
    "name": "ipython",
    "version": 3
   },
   "file_extension": ".py",
   "mimetype": "text/x-python",
   "name": "python",
   "nbconvert_exporter": "python",
   "pygments_lexer": "ipython3",
   "version": "3.9.12"
  }
 },
 "nbformat": 4,
 "nbformat_minor": 5
}
